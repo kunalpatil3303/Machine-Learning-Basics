{
  "nbformat": 4,
  "nbformat_minor": 0,
  "metadata": {
    "colab": {
      "provenance": []
    },
    "kernelspec": {
      "name": "python3",
      "display_name": "Python 3"
    },
    "language_info": {
      "name": "python"
    }
  },
  "cells": [
    {
      "cell_type": "code",
      "source": [
        "!pip install nltk"
      ],
      "metadata": {
        "colab": {
          "base_uri": "https://localhost:8080/"
        },
        "id": "UxuPOQZVi0kx",
        "outputId": "60ad68d2-772e-4ac1-bfe6-ef8a33b72c62"
      },
      "execution_count": 4,
      "outputs": [
        {
          "output_type": "stream",
          "name": "stdout",
          "text": [
            "Requirement already satisfied: nltk in /usr/local/lib/python3.11/dist-packages (3.9.1)\n",
            "Requirement already satisfied: click in /usr/local/lib/python3.11/dist-packages (from nltk) (8.1.8)\n",
            "Requirement already satisfied: joblib in /usr/local/lib/python3.11/dist-packages (from nltk) (1.4.2)\n",
            "Requirement already satisfied: regex>=2021.8.3 in /usr/local/lib/python3.11/dist-packages (from nltk) (2024.11.6)\n",
            "Requirement already satisfied: tqdm in /usr/local/lib/python3.11/dist-packages (from nltk) (4.67.1)\n"
          ]
        }
      ]
    },
    {
      "cell_type": "code",
      "execution_count": 1,
      "metadata": {
        "id": "A1BTPYz9iV0R"
      },
      "outputs": [],
      "source": [
        "x = \"Natural language processing (NLP) is a subfield of computer science and especially artificial intelligence. It is primarily concerned with providing computers with the ability to process data encoded in natural language and is thus closely related to information retrieval, knowledge representation and computational linguistics, a subfield of linguistics.\""
      ]
    },
    {
      "cell_type": "markdown",
      "source": [
        "Tokenization"
      ],
      "metadata": {
        "id": "dj950uybjiqH"
      }
    },
    {
      "cell_type": "code",
      "source": [
        "import nltk\n",
        "from nltk.tokenize import word_tokenize"
      ],
      "metadata": {
        "id": "w6W4C94HihSA"
      },
      "execution_count": 11,
      "outputs": []
    },
    {
      "cell_type": "code",
      "source": [
        "nltk.download('punkt_tab')"
      ],
      "metadata": {
        "colab": {
          "base_uri": "https://localhost:8080/"
        },
        "id": "JlUeLLP3jL9Q",
        "outputId": "bd914439-a955-4c36-cda1-93c2f7e1e92d"
      },
      "execution_count": 12,
      "outputs": [
        {
          "output_type": "stream",
          "name": "stderr",
          "text": [
            "[nltk_data] Downloading package punkt_tab to /root/nltk_data...\n",
            "[nltk_data]   Unzipping tokenizers/punkt_tab.zip.\n"
          ]
        },
        {
          "output_type": "execute_result",
          "data": {
            "text/plain": [
              "True"
            ]
          },
          "metadata": {},
          "execution_count": 12
        }
      ]
    },
    {
      "cell_type": "code",
      "source": [
        "word = word_tokenize(x)"
      ],
      "metadata": {
        "id": "DDaec_I3ioAz"
      },
      "execution_count": 13,
      "outputs": []
    },
    {
      "cell_type": "code",
      "source": [
        "word"
      ],
      "metadata": {
        "colab": {
          "base_uri": "https://localhost:8080/"
        },
        "id": "cIeoZiLCjUNn",
        "outputId": "46fb24c5-7c6c-4ddd-d61f-3d2e32270717"
      },
      "execution_count": 24,
      "outputs": [
        {
          "output_type": "execute_result",
          "data": {
            "text/plain": [
              "['Natural',\n",
              " 'language',\n",
              " 'processing',\n",
              " '(',\n",
              " 'NLP',\n",
              " ')',\n",
              " 'is',\n",
              " 'a',\n",
              " 'subfield',\n",
              " 'of',\n",
              " 'computer',\n",
              " 'science',\n",
              " 'and',\n",
              " 'especially',\n",
              " 'artificial',\n",
              " 'intelligence',\n",
              " '.',\n",
              " 'It',\n",
              " 'is',\n",
              " 'primarily',\n",
              " 'concerned',\n",
              " 'with',\n",
              " 'providing',\n",
              " 'computers',\n",
              " 'with',\n",
              " 'the',\n",
              " 'ability',\n",
              " 'to',\n",
              " 'process',\n",
              " 'data',\n",
              " 'encoded',\n",
              " 'in',\n",
              " 'natural',\n",
              " 'language',\n",
              " 'and',\n",
              " 'is',\n",
              " 'thus',\n",
              " 'closely',\n",
              " 'related',\n",
              " 'to',\n",
              " 'information',\n",
              " 'retrieval',\n",
              " ',',\n",
              " 'knowledge',\n",
              " 'representation',\n",
              " 'and',\n",
              " 'computational',\n",
              " 'linguistics',\n",
              " ',',\n",
              " 'a',\n",
              " 'subfield',\n",
              " 'of',\n",
              " 'linguistics',\n",
              " '.']"
            ]
          },
          "metadata": {},
          "execution_count": 24
        }
      ]
    },
    {
      "cell_type": "code",
      "source": [],
      "metadata": {
        "id": "3msTW0mnjea4"
      },
      "execution_count": null,
      "outputs": []
    },
    {
      "cell_type": "markdown",
      "source": [
        "Part of speech"
      ],
      "metadata": {
        "id": "UIdNejMMjkHG"
      }
    },
    {
      "cell_type": "code",
      "source": [
        "nltk.download('averaged_perceptron_tagger_eng')"
      ],
      "metadata": {
        "colab": {
          "base_uri": "https://localhost:8080/"
        },
        "id": "5bDcjdSyj9nf",
        "outputId": "5aaeda5f-565a-4bd8-8566-9556c1585260"
      },
      "execution_count": 18,
      "outputs": [
        {
          "output_type": "stream",
          "name": "stderr",
          "text": [
            "[nltk_data] Downloading package averaged_perceptron_tagger_eng to\n",
            "[nltk_data]     /root/nltk_data...\n",
            "[nltk_data]   Unzipping taggers/averaged_perceptron_tagger_eng.zip.\n"
          ]
        },
        {
          "output_type": "execute_result",
          "data": {
            "text/plain": [
              "True"
            ]
          },
          "metadata": {},
          "execution_count": 18
        }
      ]
    },
    {
      "cell_type": "code",
      "source": [
        "from nltk import pos_tag"
      ],
      "metadata": {
        "id": "ZPLDuJC5jloT"
      },
      "execution_count": 19,
      "outputs": []
    },
    {
      "cell_type": "code",
      "source": [
        "pos = pos_tag(word)"
      ],
      "metadata": {
        "id": "9A4gkC2Yjp8q"
      },
      "execution_count": 23,
      "outputs": []
    },
    {
      "cell_type": "code",
      "source": [
        "pos"
      ],
      "metadata": {
        "colab": {
          "base_uri": "https://localhost:8080/"
        },
        "id": "pNDkgbhFkIBq",
        "outputId": "c3c2c98a-751d-45c2-9770-1d469f983e7e"
      },
      "execution_count": 22,
      "outputs": [
        {
          "output_type": "execute_result",
          "data": {
            "text/plain": [
              "[('Natural', 'JJ'),\n",
              " ('language', 'NN'),\n",
              " ('processing', 'NN'),\n",
              " ('(', '('),\n",
              " ('NLP', 'NNP'),\n",
              " (')', ')'),\n",
              " ('is', 'VBZ'),\n",
              " ('a', 'DT'),\n",
              " ('subfield', 'NN'),\n",
              " ('of', 'IN'),\n",
              " ('computer', 'NN'),\n",
              " ('science', 'NN'),\n",
              " ('and', 'CC'),\n",
              " ('especially', 'RB'),\n",
              " ('artificial', 'JJ'),\n",
              " ('intelligence', 'NN'),\n",
              " ('.', '.'),\n",
              " ('It', 'PRP'),\n",
              " ('is', 'VBZ'),\n",
              " ('primarily', 'RB'),\n",
              " ('concerned', 'VBN'),\n",
              " ('with', 'IN'),\n",
              " ('providing', 'VBG'),\n",
              " ('computers', 'NNS'),\n",
              " ('with', 'IN'),\n",
              " ('the', 'DT'),\n",
              " ('ability', 'NN'),\n",
              " ('to', 'TO'),\n",
              " ('process', 'VB'),\n",
              " ('data', 'NNS'),\n",
              " ('encoded', 'VBN'),\n",
              " ('in', 'IN'),\n",
              " ('natural', 'JJ'),\n",
              " ('language', 'NN'),\n",
              " ('and', 'CC'),\n",
              " ('is', 'VBZ'),\n",
              " ('thus', 'RB'),\n",
              " ('closely', 'RB'),\n",
              " ('related', 'JJ'),\n",
              " ('to', 'TO'),\n",
              " ('information', 'NN'),\n",
              " ('retrieval', 'NN'),\n",
              " (',', ','),\n",
              " ('knowledge', 'NN'),\n",
              " ('representation', 'NN'),\n",
              " ('and', 'CC'),\n",
              " ('computational', 'JJ'),\n",
              " ('linguistics', 'NNS'),\n",
              " (',', ','),\n",
              " ('a', 'DT'),\n",
              " ('subfield', 'NN'),\n",
              " ('of', 'IN'),\n",
              " ('linguistics', 'NNS'),\n",
              " ('.', '.')]"
            ]
          },
          "metadata": {},
          "execution_count": 22
        }
      ]
    },
    {
      "cell_type": "markdown",
      "source": [
        "Sentence and word tokenization"
      ],
      "metadata": {
        "id": "Kkm5G90unJsm"
      }
    },
    {
      "cell_type": "code",
      "source": [
        "from nltk.tokenize import word_tokenize, sent_tokenize"
      ],
      "metadata": {
        "id": "0Xw3R6stnL5n"
      },
      "execution_count": 25,
      "outputs": []
    },
    {
      "cell_type": "code",
      "source": [
        "sentences_tokenized  = sent_tokenize(x)"
      ],
      "metadata": {
        "id": "b61_CfA6nYaI"
      },
      "execution_count": 26,
      "outputs": []
    },
    {
      "cell_type": "code",
      "source": [
        "sentences_tokenized"
      ],
      "metadata": {
        "colab": {
          "base_uri": "https://localhost:8080/"
        },
        "id": "NJvHjID8nd2b",
        "outputId": "a0035241-e30a-4561-d42f-95f18b0fc2af"
      },
      "execution_count": 27,
      "outputs": [
        {
          "output_type": "execute_result",
          "data": {
            "text/plain": [
              "['Natural language processing (NLP) is a subfield of computer science and especially artificial intelligence.',\n",
              " 'It is primarily concerned with providing computers with the ability to process data encoded in natural language and is thus closely related to information retrieval, knowledge representation and computational linguistics, a subfield of linguistics.']"
            ]
          },
          "metadata": {},
          "execution_count": 27
        }
      ]
    },
    {
      "cell_type": "code",
      "source": [
        "word_tokenized = word_tokenize(x)"
      ],
      "metadata": {
        "id": "QcLjbiwangGO"
      },
      "execution_count": 29,
      "outputs": []
    },
    {
      "cell_type": "code",
      "source": [
        "word_tokenized"
      ],
      "metadata": {
        "colab": {
          "base_uri": "https://localhost:8080/"
        },
        "id": "ufcPcaYRnnIq",
        "outputId": "217550aa-06a7-4e7b-d39b-9d5140622680"
      },
      "execution_count": 31,
      "outputs": [
        {
          "output_type": "execute_result",
          "data": {
            "text/plain": [
              "['Natural',\n",
              " 'language',\n",
              " 'processing',\n",
              " '(',\n",
              " 'NLP',\n",
              " ')',\n",
              " 'is',\n",
              " 'a',\n",
              " 'subfield',\n",
              " 'of',\n",
              " 'computer',\n",
              " 'science',\n",
              " 'and',\n",
              " 'especially',\n",
              " 'artificial',\n",
              " 'intelligence',\n",
              " '.',\n",
              " 'It',\n",
              " 'is',\n",
              " 'primarily',\n",
              " 'concerned',\n",
              " 'with',\n",
              " 'providing',\n",
              " 'computers',\n",
              " 'with',\n",
              " 'the',\n",
              " 'ability',\n",
              " 'to',\n",
              " 'process',\n",
              " 'data',\n",
              " 'encoded',\n",
              " 'in',\n",
              " 'natural',\n",
              " 'language',\n",
              " 'and',\n",
              " 'is',\n",
              " 'thus',\n",
              " 'closely',\n",
              " 'related',\n",
              " 'to',\n",
              " 'information',\n",
              " 'retrieval',\n",
              " ',',\n",
              " 'knowledge',\n",
              " 'representation',\n",
              " 'and',\n",
              " 'computational',\n",
              " 'linguistics',\n",
              " ',',\n",
              " 'a',\n",
              " 'subfield',\n",
              " 'of',\n",
              " 'linguistics',\n",
              " '.']"
            ]
          },
          "metadata": {},
          "execution_count": 31
        }
      ]
    },
    {
      "cell_type": "markdown",
      "source": [
        "Stopword Removal"
      ],
      "metadata": {
        "id": "qwR41-kSo4J6"
      }
    },
    {
      "cell_type": "code",
      "source": [
        "x = \"Natural language processing (NLP) is a subfield of computer science and especially artificial intelligence. It is primarily concerned with providing computers with the ability to process data encoded in natural language and is thus closely related to information retrieval, knowledge representation and computational linguistics, a subfield of linguistics. Major tasks in natural language processing are speech recognition, text classification, natural-language understanding, and natural-language generation.\""
      ],
      "metadata": {
        "id": "J5O_Xeeno6C7"
      },
      "execution_count": 34,
      "outputs": []
    },
    {
      "cell_type": "code",
      "source": [
        "from nltk.corpus import stopwords\n",
        "from string import punctuation"
      ],
      "metadata": {
        "id": "l8h_Se-qpVBP"
      },
      "execution_count": 42,
      "outputs": []
    },
    {
      "cell_type": "code",
      "source": [
        "nltk.download('stopwords')"
      ],
      "metadata": {
        "colab": {
          "base_uri": "https://localhost:8080/"
        },
        "id": "aePQ-W0Kpk7X",
        "outputId": "48c20bf7-415a-4c89-d9a4-27292f58e8a4"
      },
      "execution_count": 38,
      "outputs": [
        {
          "output_type": "stream",
          "name": "stderr",
          "text": [
            "[nltk_data] Downloading package stopwords to /root/nltk_data...\n",
            "[nltk_data]   Unzipping corpora/stopwords.zip.\n"
          ]
        },
        {
          "output_type": "execute_result",
          "data": {
            "text/plain": [
              "True"
            ]
          },
          "metadata": {},
          "execution_count": 38
        }
      ]
    },
    {
      "cell_type": "code",
      "source": [
        "stop = stopwords.words('english')"
      ],
      "metadata": {
        "id": "FpfM69fhpdoj"
      },
      "execution_count": 39,
      "outputs": []
    },
    {
      "cell_type": "code",
      "source": [
        "stop"
      ],
      "metadata": {
        "colab": {
          "base_uri": "https://localhost:8080/"
        },
        "collapsed": true,
        "id": "yMmKmGLqpmxO",
        "outputId": "b40eb8ea-1889-4d26-a922-0deeb5a85d7e"
      },
      "execution_count": 40,
      "outputs": [
        {
          "output_type": "execute_result",
          "data": {
            "text/plain": [
              "['a',\n",
              " 'about',\n",
              " 'above',\n",
              " 'after',\n",
              " 'again',\n",
              " 'against',\n",
              " 'ain',\n",
              " 'all',\n",
              " 'am',\n",
              " 'an',\n",
              " 'and',\n",
              " 'any',\n",
              " 'are',\n",
              " 'aren',\n",
              " \"aren't\",\n",
              " 'as',\n",
              " 'at',\n",
              " 'be',\n",
              " 'because',\n",
              " 'been',\n",
              " 'before',\n",
              " 'being',\n",
              " 'below',\n",
              " 'between',\n",
              " 'both',\n",
              " 'but',\n",
              " 'by',\n",
              " 'can',\n",
              " 'couldn',\n",
              " \"couldn't\",\n",
              " 'd',\n",
              " 'did',\n",
              " 'didn',\n",
              " \"didn't\",\n",
              " 'do',\n",
              " 'does',\n",
              " 'doesn',\n",
              " \"doesn't\",\n",
              " 'doing',\n",
              " 'don',\n",
              " \"don't\",\n",
              " 'down',\n",
              " 'during',\n",
              " 'each',\n",
              " 'few',\n",
              " 'for',\n",
              " 'from',\n",
              " 'further',\n",
              " 'had',\n",
              " 'hadn',\n",
              " \"hadn't\",\n",
              " 'has',\n",
              " 'hasn',\n",
              " \"hasn't\",\n",
              " 'have',\n",
              " 'haven',\n",
              " \"haven't\",\n",
              " 'having',\n",
              " 'he',\n",
              " \"he'd\",\n",
              " \"he'll\",\n",
              " 'her',\n",
              " 'here',\n",
              " 'hers',\n",
              " 'herself',\n",
              " \"he's\",\n",
              " 'him',\n",
              " 'himself',\n",
              " 'his',\n",
              " 'how',\n",
              " 'i',\n",
              " \"i'd\",\n",
              " 'if',\n",
              " \"i'll\",\n",
              " \"i'm\",\n",
              " 'in',\n",
              " 'into',\n",
              " 'is',\n",
              " 'isn',\n",
              " \"isn't\",\n",
              " 'it',\n",
              " \"it'd\",\n",
              " \"it'll\",\n",
              " \"it's\",\n",
              " 'its',\n",
              " 'itself',\n",
              " \"i've\",\n",
              " 'just',\n",
              " 'll',\n",
              " 'm',\n",
              " 'ma',\n",
              " 'me',\n",
              " 'mightn',\n",
              " \"mightn't\",\n",
              " 'more',\n",
              " 'most',\n",
              " 'mustn',\n",
              " \"mustn't\",\n",
              " 'my',\n",
              " 'myself',\n",
              " 'needn',\n",
              " \"needn't\",\n",
              " 'no',\n",
              " 'nor',\n",
              " 'not',\n",
              " 'now',\n",
              " 'o',\n",
              " 'of',\n",
              " 'off',\n",
              " 'on',\n",
              " 'once',\n",
              " 'only',\n",
              " 'or',\n",
              " 'other',\n",
              " 'our',\n",
              " 'ours',\n",
              " 'ourselves',\n",
              " 'out',\n",
              " 'over',\n",
              " 'own',\n",
              " 're',\n",
              " 's',\n",
              " 'same',\n",
              " 'shan',\n",
              " \"shan't\",\n",
              " 'she',\n",
              " \"she'd\",\n",
              " \"she'll\",\n",
              " \"she's\",\n",
              " 'should',\n",
              " 'shouldn',\n",
              " \"shouldn't\",\n",
              " \"should've\",\n",
              " 'so',\n",
              " 'some',\n",
              " 'such',\n",
              " 't',\n",
              " 'than',\n",
              " 'that',\n",
              " \"that'll\",\n",
              " 'the',\n",
              " 'their',\n",
              " 'theirs',\n",
              " 'them',\n",
              " 'themselves',\n",
              " 'then',\n",
              " 'there',\n",
              " 'these',\n",
              " 'they',\n",
              " \"they'd\",\n",
              " \"they'll\",\n",
              " \"they're\",\n",
              " \"they've\",\n",
              " 'this',\n",
              " 'those',\n",
              " 'through',\n",
              " 'to',\n",
              " 'too',\n",
              " 'under',\n",
              " 'until',\n",
              " 'up',\n",
              " 've',\n",
              " 'very',\n",
              " 'was',\n",
              " 'wasn',\n",
              " \"wasn't\",\n",
              " 'we',\n",
              " \"we'd\",\n",
              " \"we'll\",\n",
              " \"we're\",\n",
              " 'were',\n",
              " 'weren',\n",
              " \"weren't\",\n",
              " \"we've\",\n",
              " 'what',\n",
              " 'when',\n",
              " 'where',\n",
              " 'which',\n",
              " 'while',\n",
              " 'who',\n",
              " 'whom',\n",
              " 'why',\n",
              " 'will',\n",
              " 'with',\n",
              " 'won',\n",
              " \"won't\",\n",
              " 'wouldn',\n",
              " \"wouldn't\",\n",
              " 'y',\n",
              " 'you',\n",
              " \"you'd\",\n",
              " \"you'll\",\n",
              " 'your',\n",
              " \"you're\",\n",
              " 'yours',\n",
              " 'yourself',\n",
              " 'yourselves',\n",
              " \"you've\"]"
            ]
          },
          "metadata": {},
          "execution_count": 40
        }
      ]
    },
    {
      "cell_type": "code",
      "source": [
        "var_new = word_tokenize(x)"
      ],
      "metadata": {
        "id": "JqyhOIXwqx5p"
      },
      "execution_count": 41,
      "outputs": []
    },
    {
      "cell_type": "code",
      "source": [
        "list(punctuation)"
      ],
      "metadata": {
        "colab": {
          "base_uri": "https://localhost:8080/"
        },
        "collapsed": true,
        "id": "ig9FvycBq4AV",
        "outputId": "84c938a9-73e3-426c-d933-a3c585237b3a"
      },
      "execution_count": 44,
      "outputs": [
        {
          "output_type": "execute_result",
          "data": {
            "text/plain": [
              "['!',\n",
              " '\"',\n",
              " '#',\n",
              " '$',\n",
              " '%',\n",
              " '&',\n",
              " \"'\",\n",
              " '(',\n",
              " ')',\n",
              " '*',\n",
              " '+',\n",
              " ',',\n",
              " '-',\n",
              " '.',\n",
              " '/',\n",
              " ':',\n",
              " ';',\n",
              " '<',\n",
              " '=',\n",
              " '>',\n",
              " '?',\n",
              " '@',\n",
              " '[',\n",
              " '\\\\',\n",
              " ']',\n",
              " '^',\n",
              " '_',\n",
              " '`',\n",
              " '{',\n",
              " '|',\n",
              " '}',\n",
              " '~']"
            ]
          },
          "metadata": {},
          "execution_count": 44
        }
      ]
    },
    {
      "cell_type": "code",
      "source": [
        "stop_word_list = stop + list(punctuation)"
      ],
      "metadata": {
        "id": "cGyQJr-vrALY"
      },
      "execution_count": 45,
      "outputs": []
    },
    {
      "cell_type": "code",
      "source": [
        "for i in var_new:\n",
        "  if i not in stop_word_list:\n",
        "    print(i)"
      ],
      "metadata": {
        "colab": {
          "base_uri": "https://localhost:8080/"
        },
        "id": "5YSuiM8lrHBK",
        "outputId": "d5d8de32-c5e2-4887-85e9-28fa93503e02"
      },
      "execution_count": 46,
      "outputs": [
        {
          "output_type": "stream",
          "name": "stdout",
          "text": [
            "Natural\n",
            "language\n",
            "processing\n",
            "NLP\n",
            "subfield\n",
            "computer\n",
            "science\n",
            "especially\n",
            "artificial\n",
            "intelligence\n",
            "It\n",
            "primarily\n",
            "concerned\n",
            "providing\n",
            "computers\n",
            "ability\n",
            "process\n",
            "data\n",
            "encoded\n",
            "natural\n",
            "language\n",
            "thus\n",
            "closely\n",
            "related\n",
            "information\n",
            "retrieval\n",
            "knowledge\n",
            "representation\n",
            "computational\n",
            "linguistics\n",
            "subfield\n",
            "linguistics\n",
            "Major\n",
            "tasks\n",
            "natural\n",
            "language\n",
            "processing\n",
            "speech\n",
            "recognition\n",
            "text\n",
            "classification\n",
            "natural-language\n",
            "understanding\n",
            "natural-language\n",
            "generation\n"
          ]
        }
      ]
    },
    {
      "cell_type": "markdown",
      "source": [
        "Stemming"
      ],
      "metadata": {
        "id": "zaU0SNxYsQ7c"
      }
    },
    {
      "cell_type": "code",
      "source": [
        "from nltk.stem import LancasterStemmer, RegexpStemmer, PorterStemmer, SnowballStemmer"
      ],
      "metadata": {
        "id": "P_TUbJ3ZsR7Z"
      },
      "execution_count": 49,
      "outputs": []
    },
    {
      "cell_type": "code",
      "source": [
        "l = LancasterStemmer()\n",
        "r = RegexpStemmer('ing')\n",
        "p = PorterStemmer()\n",
        "s = SnowballStemmer('english')"
      ],
      "metadata": {
        "id": "kTSIKQQ1sd2_"
      },
      "execution_count": 52,
      "outputs": []
    },
    {
      "cell_type": "markdown",
      "source": [
        "Most frequently PorterStemmer is used"
      ],
      "metadata": {
        "id": "gcBVsVJStJfW"
      }
    },
    {
      "cell_type": "code",
      "source": [
        "p.stem(\"changing\")"
      ],
      "metadata": {
        "colab": {
          "base_uri": "https://localhost:8080/",
          "height": 36
        },
        "id": "HoXB2baltX3z",
        "outputId": "3ae69eb0-470f-4176-c6e6-e3e67637021e"
      },
      "execution_count": 53,
      "outputs": [
        {
          "output_type": "execute_result",
          "data": {
            "text/plain": [
              "'chang'"
            ],
            "application/vnd.google.colaboratory.intrinsic+json": {
              "type": "string"
            }
          },
          "metadata": {},
          "execution_count": 53
        }
      ]
    },
    {
      "cell_type": "markdown",
      "source": [
        "Lemmatization"
      ],
      "metadata": {
        "id": "2myPKevmt_sP"
      }
    },
    {
      "cell_type": "code",
      "source": [
        "from nltk.stem import WordNetLemmatizer"
      ],
      "metadata": {
        "id": "hxrWe-nduBY4"
      },
      "execution_count": 54,
      "outputs": []
    },
    {
      "cell_type": "code",
      "source": [
        "wl = WordNetLemmatizer()"
      ],
      "metadata": {
        "id": "xCQvpPkTuG3h"
      },
      "execution_count": 55,
      "outputs": []
    },
    {
      "cell_type": "code",
      "source": [
        "nltk.download('wordnet')"
      ],
      "metadata": {
        "colab": {
          "base_uri": "https://localhost:8080/"
        },
        "id": "SiPjsnh6uSJv",
        "outputId": "241b9d14-32db-4c24-a5ab-6bd7fd36faca"
      },
      "execution_count": 57,
      "outputs": [
        {
          "output_type": "stream",
          "name": "stderr",
          "text": [
            "[nltk_data] Downloading package wordnet to /root/nltk_data...\n"
          ]
        },
        {
          "output_type": "execute_result",
          "data": {
            "text/plain": [
              "True"
            ]
          },
          "metadata": {},
          "execution_count": 57
        }
      ]
    },
    {
      "cell_type": "code",
      "source": [
        "wl.lemmatize(\"mice\")"
      ],
      "metadata": {
        "colab": {
          "base_uri": "https://localhost:8080/",
          "height": 36
        },
        "id": "Ho1C-ZzluJWe",
        "outputId": "e283cce4-5bb9-455a-bc14-1e547056fa0f"
      },
      "execution_count": 61,
      "outputs": [
        {
          "output_type": "execute_result",
          "data": {
            "text/plain": [
              "'mouse'"
            ],
            "application/vnd.google.colaboratory.intrinsic+json": {
              "type": "string"
            }
          },
          "metadata": {},
          "execution_count": 61
        }
      ]
    },
    {
      "cell_type": "markdown",
      "source": [
        "N- grams"
      ],
      "metadata": {
        "id": "2mNKvPs4wtsY"
      }
    },
    {
      "cell_type": "code",
      "source": [
        "x = \"I am Kunal Patil I am a Product Analyst I am sincere and passionate about ML\""
      ],
      "metadata": {
        "id": "OnAY9kStwvAl"
      },
      "execution_count": 65,
      "outputs": []
    },
    {
      "cell_type": "code",
      "source": [
        "from nltk.tokenize import word_tokenize"
      ],
      "metadata": {
        "id": "vq1SGOHyw9i9"
      },
      "execution_count": 66,
      "outputs": []
    },
    {
      "cell_type": "code",
      "source": [
        "tokenized_word = word_tokenize(x)"
      ],
      "metadata": {
        "id": "7aR566a6xCeK"
      },
      "execution_count": 67,
      "outputs": []
    },
    {
      "cell_type": "code",
      "source": [
        "from nltk.collocations import BigramCollocationFinder, TrigramCollocationFinder, ngrams"
      ],
      "metadata": {
        "id": "IGHnBmcOxJFM"
      },
      "execution_count": 68,
      "outputs": []
    },
    {
      "cell_type": "code",
      "source": [
        "b = BigramCollocationFinder.from_words(tokenized_word)"
      ],
      "metadata": {
        "id": "mzOqfLdFxaSz"
      },
      "execution_count": 70,
      "outputs": []
    },
    {
      "cell_type": "code",
      "source": [
        "b.ngram_fd"
      ],
      "metadata": {
        "colab": {
          "base_uri": "https://localhost:8080/"
        },
        "id": "0Bxe-hCZxmdE",
        "outputId": "d5a022e0-1cef-4431-9600-bde8c9656616"
      },
      "execution_count": 71,
      "outputs": [
        {
          "output_type": "execute_result",
          "data": {
            "text/plain": [
              "FreqDist({('I', 'am'): 3, ('am', 'Kunal'): 1, ('Kunal', 'Patil'): 1, ('Patil', 'I'): 1, ('am', 'a'): 1, ('a', 'Product'): 1, ('Product', 'Analyst'): 1, ('Analyst', 'I'): 1, ('am', 'sincere'): 1, ('sincere', 'and'): 1, ...})"
            ]
          },
          "metadata": {},
          "execution_count": 71
        }
      ]
    },
    {
      "cell_type": "code",
      "source": [
        "t = TrigramCollocationFinder.from_words(tokenized_word)"
      ],
      "metadata": {
        "id": "gSkhpHrbxs9r"
      },
      "execution_count": 72,
      "outputs": []
    },
    {
      "cell_type": "code",
      "source": [
        "t.ngram_fd"
      ],
      "metadata": {
        "colab": {
          "base_uri": "https://localhost:8080/"
        },
        "id": "DP5r_EqKxzAT",
        "outputId": "96d01372-ad13-49e5-848c-5fba08d856e5"
      },
      "execution_count": 76,
      "outputs": [
        {
          "output_type": "execute_result",
          "data": {
            "text/plain": [
              "FreqDist({('I', 'am', 'Kunal'): 1, ('am', 'Kunal', 'Patil'): 1, ('Kunal', 'Patil', 'I'): 1, ('Patil', 'I', 'am'): 1, ('I', 'am', 'a'): 1, ('am', 'a', 'Product'): 1, ('a', 'Product', 'Analyst'): 1, ('Product', 'Analyst', 'I'): 1, ('Analyst', 'I', 'am'): 1, ('I', 'am', 'sincere'): 1, ...})"
            ]
          },
          "metadata": {},
          "execution_count": 76
        }
      ]
    },
    {
      "cell_type": "code",
      "source": [
        "n = ngrams(tokenized_word, 2)"
      ],
      "metadata": {
        "id": "3-FGPrGCycXR"
      },
      "execution_count": 79,
      "outputs": []
    },
    {
      "cell_type": "code",
      "source": [
        "for i in n:\n",
        "  print(i)"
      ],
      "metadata": {
        "colab": {
          "base_uri": "https://localhost:8080/"
        },
        "id": "HSiWW5DKyjhW",
        "outputId": "bdddc416-bbfa-49f8-c4fd-6d0b2ddceefa"
      },
      "execution_count": 80,
      "outputs": [
        {
          "output_type": "stream",
          "name": "stdout",
          "text": [
            "('I', 'am')\n",
            "('am', 'Kunal')\n",
            "('Kunal', 'Patil')\n",
            "('Patil', 'I')\n",
            "('I', 'am')\n",
            "('am', 'a')\n",
            "('a', 'Product')\n",
            "('Product', 'Analyst')\n",
            "('Analyst', 'I')\n",
            "('I', 'am')\n",
            "('am', 'sincere')\n",
            "('sincere', 'and')\n",
            "('and', 'passionate')\n",
            "('passionate', 'about')\n",
            "('about', 'ML')\n"
          ]
        }
      ]
    },
    {
      "cell_type": "markdown",
      "source": [
        "Word Disambiguation"
      ],
      "metadata": {
        "id": "32PIMlMv0uU4"
      }
    },
    {
      "cell_type": "code",
      "source": [
        "x = \"Sunrise (or sunup) is the moment when the upper rim of the Sun appears on the horizon in the morning,[1] at the start of the Sun path. The term can also refer to the entire process of the solar disk crossing the horizon.\""
      ],
      "metadata": {
        "id": "vzHXFVzp0xNj"
      },
      "execution_count": 81,
      "outputs": []
    },
    {
      "cell_type": "code",
      "source": [
        "from nltk.wsd import lesk\n",
        "from nltk.tokenize import word_tokenize"
      ],
      "metadata": {
        "id": "K7Jlc7d807Yn"
      },
      "execution_count": 82,
      "outputs": []
    },
    {
      "cell_type": "code",
      "source": [
        "l = lesk(word_tokenize(x), 'sun')"
      ],
      "metadata": {
        "id": "rvSXO8qS1GFU"
      },
      "execution_count": 83,
      "outputs": []
    },
    {
      "cell_type": "code",
      "source": [
        "l.definition()"
      ],
      "metadata": {
        "colab": {
          "base_uri": "https://localhost:8080/",
          "height": 36
        },
        "id": "Umy6uIRz1Q3V",
        "outputId": "eb469689-109d-4a4e-9e91-13e99cade8f1"
      },
      "execution_count": 86,
      "outputs": [
        {
          "output_type": "execute_result",
          "data": {
            "text/plain": [
              "'the star that is the source of light and heat for the planets in the solar system'"
            ],
            "application/vnd.google.colaboratory.intrinsic+json": {
              "type": "string"
            }
          },
          "metadata": {},
          "execution_count": 86
        }
      ]
    },
    {
      "cell_type": "code",
      "source": [
        "z = \"A computer mouse (plural mice, also mouses)[nb 1] is a hand-held pointing device that detects two-dimensional motion relative to a surface. This motion is typically translated into the motion of the pointer (called a cursor) on a display, which allows a smooth control of the graphical user interface of a computer.\""
      ],
      "metadata": {
        "id": "SCji7vdt1fLh"
      },
      "execution_count": 93,
      "outputs": []
    },
    {
      "cell_type": "code",
      "source": [
        "from nltk.wsd import lesk\n",
        "from nltk.tokenize import word_tokenize"
      ],
      "metadata": {
        "id": "kolvuFjC1glK"
      },
      "execution_count": 92,
      "outputs": []
    },
    {
      "cell_type": "code",
      "source": [
        "l = lesk(z, \"computer\")"
      ],
      "metadata": {
        "id": "R5_4jVLR1oLv"
      },
      "execution_count": 99,
      "outputs": []
    },
    {
      "cell_type": "code",
      "source": [
        "l.definition()"
      ],
      "metadata": {
        "colab": {
          "base_uri": "https://localhost:8080/",
          "height": 36
        },
        "id": "lr8XXqIU1vt4",
        "outputId": "0b2e5cde-e4fe-40a4-e610-e62f67b68b1b"
      },
      "execution_count": 100,
      "outputs": [
        {
          "output_type": "execute_result",
          "data": {
            "text/plain": [
              "'a machine for performing calculations automatically'"
            ],
            "application/vnd.google.colaboratory.intrinsic+json": {
              "type": "string"
            }
          },
          "metadata": {},
          "execution_count": 100
        }
      ]
    }
  ]
}